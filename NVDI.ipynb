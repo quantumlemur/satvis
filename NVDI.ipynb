{
 "cells": [
  {
   "cell_type": "code",
   "execution_count": 87,
   "metadata": {},
   "outputs": [],
   "source": [
    "import numpy as np\n",
    "import rasterio\n",
    "\n",
    "from matplotlib import pyplot as plt\n",
    "from rasterio.plot import show, show_hist\n",
    "\n",
    "dataset = rasterio.open('m_3711912_ne_11_h_20160701.tif') # part of Yosemite valley"
   ]
  },
  {
   "cell_type": "code",
   "execution_count": 105,
   "metadata": {},
   "outputs": [],
   "source": [
    "r = dataset.read(1)\n",
    "g = dataset.read(2)\n",
    "b = dataset.read(3)\n",
    "ir = dataset.read(4)\n",
    "\n",
    "with np.errstate(divide='ignore', invalid='ignore'):\n",
    "    nvdi = (ir - r) / (ir + r)\n",
    "    \n",
    "    # remove INF and NAN from the array\n",
    "    nvdi[nvdi == np.inf] = 0\n",
    "    nvdi = np.nan_to_num(nvdi)\n",
    "    \n",
    "    # convert negative values to new red channel, and positive to green\n",
    "    nvdiR = nvdi.copy()\n",
    "    nvdiR[nvdiR > 0] = 0\n",
    "    nvdiR = - nvdiR * 255\n",
    "    \n",
    "    nvdiG = nvdi.copy()\n",
    "    nvdiG[nvdiG < 0] = 0\n",
    "    nvdiG = nvdiG * 255\n",
    "    \n",
    "    nvdiB = np.zeros(nvdiG.shape)\n",
    "    \n",
    "    # zip it up\n",
    "    nvdiRGB = np.dstack((nvdiR, nvdiG, nvdiB))"
   ]
  },
  {
   "cell_type": "code",
   "execution_count": null,
   "metadata": {},
   "outputs": [],
   "source": [
    "fig, ax = plt.subplots(3, 1, figsize=(30,30))\n",
    "\n",
    "\n",
    "\n",
    "show(dataset, ax=ax[0])\n",
    "\n",
    "ax[1].imshow(nvdiRGB)\n",
    "\n",
    "show_hist(nvdiRGB, bins=50, lx=0.0, stacked=False, alpha=0.3, histtype='stepfilled', ax=ax[2])\n",
    "\n",
    "\n",
    "\n",
    "# ax[1].imshow(nvdi, cmap='pink')\n",
    "\n",
    "# ax[2].hist(nvdi, bins=255)\n",
    "# ax[2].set_yscale('log')\n",
    "\n",
    "\n",
    "\n",
    "plt.show()"
   ]
  },
  {
   "cell_type": "code",
   "execution_count": 77,
   "metadata": {
    "collapsed": true
   },
   "outputs": [],
   "source": [
    "dataset.close()"
   ]
  }
 ],
 "metadata": {
  "kernelspec": {
   "display_name": "Python 3",
   "language": "python",
   "name": "python3"
  },
  "language_info": {
   "codemirror_mode": {
    "name": "ipython",
    "version": 3
   },
   "file_extension": ".py",
   "mimetype": "text/x-python",
   "name": "python",
   "nbconvert_exporter": "python",
   "pygments_lexer": "ipython3",
   "version": "3.6.3"
  }
 },
 "nbformat": 4,
 "nbformat_minor": 2
}
